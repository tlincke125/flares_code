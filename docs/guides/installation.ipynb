{
 "cells": [
  {
   "cell_type": "markdown",
   "id": "30bc6b75-6f03-4ca1-95d6-625ac05f3793",
   "metadata": {},
   "source": [
    "# 1 Installation\n",
    "***"
   ]
  },
  {
   "cell_type": "markdown",
   "id": "77e0a921-a423-433b-9299-11ec9995051b",
   "metadata": {},
   "source": [
    "## 1.1 Building the stable package\n",
    "In the early stages, the stable package isn't bug free - tracking issues and fixing bugs will still. The most recent stable build is 0.0.2-stable.\n",
    "\n",
    "To install:\n",
    "```\n",
    "$ pip3 install stable_builds/flares-segmentation-tlincke125-0.0.2-stable.tar.gz\n",
    "```\n",
    "\n",
    "## 1.2 Building the latest package \n",
    "First, checkout the **master** branch. Then, in the root directory, build the package and documentation using the following command:\n",
    "\n",
    "```\n",
    "$ ./install.sh\n",
    "``` \n",
    "\n",
    "This should produce two files in the ./dist folder and update all files in docs/documentation/flares.\n",
    "\n",
    "To install the package, go into the dist folder and install the package using pip:\n",
    "\n",
    "```\n",
    "$ cd dist\n",
    "$ pip3 install flares-segmentation-tlincke125-<version>.tar.gz\n",
    "```\n",
    "\n",
    "Where \\<version\\> is the highest version (or any other version you wish to install).\n",
    "\n",
    "You can then open docs/documentation/flares/index.html in your prefered browser."
   ]
  },
  {
   "cell_type": "markdown",
   "id": "1ab3fa73-b896-46e3-9fba-c65da3fe5628",
   "metadata": {},
   "source": [
    "# 2 Getting Started\n",
    "***\n",
    "See ./docs/guides/getting_started.ipynb"
   ]
  }
 ],
 "metadata": {
  "kernelspec": {
   "display_name": "Python 3 (ipykernel)",
   "language": "python",
   "name": "python3"
  },
  "language_info": {
   "codemirror_mode": {
    "name": "ipython",
    "version": 3
   },
   "file_extension": ".py",
   "mimetype": "text/x-python",
   "name": "python",
   "nbconvert_exporter": "python",
   "pygments_lexer": "ipython3",
   "version": "3.8.10"
  }
 },
 "nbformat": 4,
 "nbformat_minor": 5
}
