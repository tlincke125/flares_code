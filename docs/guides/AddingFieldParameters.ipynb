{
 "cells": [
  {
   "cell_type": "markdown",
   "id": "2eef8d1c-4577-41b1-aaed-00c8fbe0db41",
   "metadata": {},
   "source": [
    "# 3 Adding Parameters and Fields\n",
    "***\n",
    "***\n",
    "So far, ActiveRegion has a set of in built functions. If you want to add another feature or field, this guide will show you how to do that."
   ]
  },
  {
   "cell_type": "code",
   "execution_count": 2,
   "id": "399f7341-ef52-4863-ae6e-e51a8a8b3b0a",
   "metadata": {},
   "outputs": [],
   "source": [
    "from flares.active_region import ActiveRegion\n",
    "from flares.data import get_dates\n",
    "import torch\n",
    "import numpy as np"
   ]
  },
  {
   "cell_type": "markdown",
   "id": "9796d020-49dc-4186-85ac-7c17aee63d14",
   "metadata": {},
   "source": [
    "### First, create an active region subclass"
   ]
  },
  {
   "cell_type": "code",
   "execution_count": 3,
   "id": "43ee572a-0c28-45fb-97d0-866b18e9627a",
   "metadata": {},
   "outputs": [],
   "source": [
    "class ActiveRegionDeriv(ActiveRegion):\n",
    "    \n",
    "    def __init__(self, hnum, date, root):\n",
    "                \n",
    "        # Create an active region - note the 3 at the end is the 3 extra parameters you are adding\n",
    "        super().__init__(hnum, date, root, 3)\n",
    "        \n",
    "        \"\"\"\n",
    "        We want to register two new functions:\n",
    "        \n",
    "        num_in_mask - returns number of true values in a mask and number of false values in a mask (2 parameters returned)\n",
    "        num_hc_gt_zero - returns number of pixels in hc that are greater than 0 (1 parameter returned)\n",
    "        \n",
    "        Simply call register func to the two parameter functions that return the values you want\n",
    "        \"\"\"\n",
    "        self.register_func(self.num_in_mask)\n",
    "        self.register_func(self.num_hc_gt_zero)\n",
    "\n",
    "        \n",
    "    def num_in_mask(self, mask):\n",
    "        \"\"\"\n",
    "        Mask is a torch array the same size as Bz Bx By and cont (self.shape)\n",
    "        \n",
    "        It is a boolean array with true values on the subset of the active region\n",
    "        that ActiveRegion is interested in.\n",
    "        \n",
    "        A feature function returns a label followed by a scalar (or list of labels and scalars)\n",
    "        \"\"\"\n",
    "        return [\"num_1_in_mask\", \"num_0_in_mask\"], [torch.count_nonzero(mask), torch.count_nonzero(~mask)]\n",
    "    \n",
    "    \n",
    "    def num_hc_gt_zero(self, mask):\n",
    "        \"\"\"\n",
    "        Count the number of values in hc greater than 0\n",
    "        \"\"\"\n",
    "        self.assert_hc_gt_zero()\n",
    "        return \"num_hc_gt_zero\", torch.count_nonzero(self.hc_gt_zero)\n",
    "    \n",
    "    \n",
    "    # An example of another field (this is a pretty bad design because we could just count number positive in the parameter function,\n",
    "    # but this is just an example)\n",
    "    def assert_hc_gt_zero(self):\n",
    "        \"\"\"\n",
    "        Creating a new field is relatively easy, just check if the field already exists, then\n",
    "        define the field. In this case, we create a new field called hc_gt_zero (1 if hc is gt 0 0 else)\n",
    "        and we need the hc field first. All of these derived fields are torch arrays\n",
    "        \"\"\"\n",
    "        if not hasattr(self, \"hc_gt_zero\"):\n",
    "            self.assert_hc() # We need the hc field as a prereq for gt_zero\n",
    "            self.hc_gt_zero = (self.hc > 0).double()"
   ]
  },
  {
   "cell_type": "markdown",
   "id": "0bbf9daf-fed6-4805-9215-f2c45b856415",
   "metadata": {},
   "source": [
    "### Test the active region with the three added features:\n",
    "num_hc_gt_zero, num_0_in_mask, num_1_in_mask"
   ]
  },
  {
   "cell_type": "code",
   "execution_count": 12,
   "id": "bd8d83f3-9cf3-4148-9f80-db2716e10c3d",
   "metadata": {},
   "outputs": [],
   "source": [
    "hnum = 7115\n",
    "hnum = 7115 \n",
    "root = \"/srv/data/thli2739\"\n",
    "dates = get_dates(hnum, root, sort = True) # If you don't want to manually put in dates - extract all possible dates\n",
    "\n",
    "ar = ActiveRegionDeriv(hnum, dates[0], root)"
   ]
  },
  {
   "cell_type": "code",
   "execution_count": 10,
   "id": "00d1514d-3a50-4d0e-bd87-cb057f5e9686",
   "metadata": {},
   "outputs": [
    {
     "name": "stdout",
     "output_type": "stream",
     "text": [
      "Baseline new features:  [308224.      0. 153797.] ['bas_num_1_in_mask', 'bas_num_0_in_mask', 'bas_num_hc_gt_zero']\n",
      "\n",
      "Segmented new features:  [305808.   2416. 153797.] ['bckg_num_1_in_mask', 'bckg_num_0_in_mask', 'bckg_num_hc_gt_zero']\n",
      "\n",
      "Graph: \n",
      "Node:  0 Type:  penumbra [   433. 307791. 153797.] ['bas_num_1_in_mask', 'bas_num_0_in_mask', 'bas_num_hc_gt_zero']\n",
      "Node:  1 Type:  umbra [7.00000e+01 3.08154e+05 1.53797e+05] ['bas_num_1_in_mask', 'bas_num_0_in_mask', 'bas_num_hc_gt_zero']\n",
      "Node:  2 Type:  umbra [4.50000e+01 3.08179e+05 1.53797e+05] ['bas_num_1_in_mask', 'bas_num_0_in_mask', 'bas_num_hc_gt_zero']\n",
      "Node:  3 Type:  penumbra [  1498. 306726. 153797.] ['bas_num_1_in_mask', 'bas_num_0_in_mask', 'bas_num_hc_gt_zero']\n",
      "Node:  4 Type:  umbra [   370. 307854. 153797.] ['bas_num_1_in_mask', 'bas_num_0_in_mask', 'bas_num_hc_gt_zero']\n"
     ]
    }
   ],
   "source": [
    "data, labels = ar.get_baseline()\n",
    "print(\"Baseline new features: \", data[-3:], labels[-3:], end = \"\\n\\n\")\n",
    "\n",
    "data, labels = ar.get_segmented()\n",
    "print(\"Segmented new features: \", data[-3:], labels[-3:], end = \"\\n\\n\")\n",
    "\n",
    "print(\"Graph: \")\n",
    "G, labels = ar.get_graph()\n",
    "for n, data in G.nodes.data():\n",
    "    print(\"Node: \", n, \"Type: \", data[\"type\"], data[\"v\"][-3:], labels[-3:])"
   ]
  },
  {
   "cell_type": "markdown",
   "id": "0c9ecb4a-4ad1-436c-896f-d67ffab32804",
   "metadata": {},
   "source": [
    "## What about new fields (other than continuum / Bz)?\n",
    "Here's a new field called random. We want to add this field to the fields in ActiveRegion"
   ]
  },
  {
   "cell_type": "code",
   "execution_count": 29,
   "id": "2e8875d4-5ff6-4a08-aa07-55e666943b83",
   "metadata": {},
   "outputs": [],
   "source": [
    "random_field = torch.rand(448, 688)"
   ]
  },
  {
   "cell_type": "code",
   "execution_count": 30,
   "id": "3ffe07c7-240d-42f3-92ea-fc00a1f9bd8f",
   "metadata": {},
   "outputs": [],
   "source": [
    "class ActiveRegionDeriv(ActiveRegion):\n",
    "    \n",
    "    \n",
    "    def __init__(self, hnum, date, root):\n",
    "                \n",
    "        # Create an active region - note the 3 at the end is the 3 extra parameters you are adding\n",
    "        super().__init__(hnum, date, root, 1)\n",
    "        \n",
    "        \"\"\"\n",
    "        We want to register one new function that uses another field (not Bz Bx By or cont)\n",
    "        \n",
    "        to access this new field, we would type: self.rand_field\n",
    "        \"\"\"\n",
    "        self.manually_add_field(random_field, \"rand_field\")\n",
    "        self.register_func(self.magnitude)\n",
    "\n",
    "        \n",
    "    def magnitude(self, mask):\n",
    "        \"\"\"\n",
    "        Get the sum of the random field\n",
    "        when we use new fields, make sure they're torch tensors on the right device\n",
    "        \"\"\"\n",
    "        return \"rand_sum\", torch.sum(self.rand_field[mask])"
   ]
  },
  {
   "cell_type": "code",
   "execution_count": 31,
   "id": "bbdf59f6-3d96-4c34-a6d1-1a20838f6e13",
   "metadata": {},
   "outputs": [],
   "source": [
    "hnum = 7115\n",
    "hnum = 7115 \n",
    "root = \"/srv/data/thli2739\"\n",
    "dates = get_dates(hnum, root, sort = True) # If you don't want to manually put in dates - extract all possible dates\n",
    "\n",
    "ar = ActiveRegionDeriv(hnum, dates[0], root)"
   ]
  },
  {
   "cell_type": "code",
   "execution_count": 32,
   "id": "87a0600e-94b5-441a-8486-4c0f896526cf",
   "metadata": {},
   "outputs": [
    {
     "name": "stdout",
     "output_type": "stream",
     "text": [
      "Baseline new features:  [154512.15625] ['bas_rand_sum']\n",
      "\n",
      "Segmented new features:  [153285.609375] ['bckg_rand_sum']\n",
      "\n",
      "Graph: \n",
      "Node:  0 Type:  penumbra [213.00975037] ['bas_rand_sum']\n",
      "Node:  1 Type:  umbra [31.27521896] ['bas_rand_sum']\n",
      "Node:  2 Type:  umbra [24.3604126] ['bas_rand_sum']\n",
      "Node:  3 Type:  penumbra [758.527771] ['bas_rand_sum']\n",
      "Node:  4 Type:  umbra [199.36988831] ['bas_rand_sum']\n"
     ]
    }
   ],
   "source": [
    "data, labels = ar.get_baseline()\n",
    "print(\"Baseline new features: \", data[-1:], labels[-1:], end = \"\\n\\n\")\n",
    "\n",
    "data, labels = ar.get_segmented()\n",
    "print(\"Segmented new features: \", data[-1:], labels[-1:], end = \"\\n\\n\")\n",
    "\n",
    "print(\"Graph: \")\n",
    "G, labels = ar.get_graph()\n",
    "for n, data in G.nodes.data():\n",
    "    print(\"Node: \", n, \"Type: \", data[\"type\"], data[\"v\"][-1:], labels[-1:])"
   ]
  }
 ],
 "metadata": {
  "kernelspec": {
   "display_name": "Python 3 (ipykernel)",
   "language": "python",
   "name": "python3"
  },
  "language_info": {
   "codemirror_mode": {
    "name": "ipython",
    "version": 3
   },
   "file_extension": ".py",
   "mimetype": "text/x-python",
   "name": "python",
   "nbconvert_exporter": "python",
   "pygments_lexer": "ipython3",
   "version": "3.8.10"
  }
 },
 "nbformat": 4,
 "nbformat_minor": 5
}
